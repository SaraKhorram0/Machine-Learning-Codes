{
 "cells": [
  {
   "metadata": {},
   "cell_type": "markdown",
   "source": "### Iris Dataset Classification",
   "id": "41c468646150452d"
  },
  {
   "cell_type": "code",
   "id": "initial_id",
   "metadata": {
    "collapsed": true
   },
   "source": [
    "import sklearn\n",
    "from sklearn.datasets import load_iris"
   ],
   "outputs": [],
   "execution_count": null
  },
  {
   "metadata": {},
   "cell_type": "code",
   "source": [
    "iris = load_iris()\n",
    "\n",
    "X = iris.data\n",
    "y = iris.target"
   ],
   "id": "1a4c12f45d951385",
   "outputs": [],
   "execution_count": null
  },
  {
   "metadata": {},
   "cell_type": "markdown",
   "source": "K-NN classifier training",
   "id": "aec839471490ecfd"
  },
  {
   "metadata": {},
   "cell_type": "code",
   "source": "from sklearn.neighbors import KNeighborsClassifier",
   "id": "76d8e92a724b1857",
   "outputs": [],
   "execution_count": null
  },
  {
   "metadata": {},
   "cell_type": "code",
   "source": [
    "knn = KNeighborsClassifier(n_neighbors=1)\n",
    "knn.fit(X, y)"
   ],
   "id": "badae4dc8dfce434",
   "outputs": [],
   "execution_count": null
  },
  {
   "metadata": {},
   "cell_type": "markdown",
   "source": "Linear regression classifier training",
   "id": "2f96ec49afc8015f"
  },
  {
   "metadata": {},
   "cell_type": "code",
   "source": "from sklearn.linear_model import LogisticRegression",
   "id": "dbfc2d523cfcd7df",
   "outputs": [],
   "execution_count": null
  },
  {
   "metadata": {},
   "cell_type": "code",
   "source": [
    "logreg = LogisticRegression(solver='liblinear')\n",
    "logreg.fit(X, y)"
   ],
   "id": "a0039b612c7ec4d5",
   "outputs": [],
   "execution_count": null
  },
  {
   "metadata": {},
   "cell_type": "markdown",
   "source": "Model evaluations: classification accuracy",
   "id": "592098c2a75ec39d"
  },
  {
   "metadata": {
    "ExecuteTime": {
     "end_time": "2025-03-01T11:36:15.181999Z",
     "start_time": "2025-03-01T11:36:15.172625Z"
    }
   },
   "cell_type": "code",
   "source": "from sklearn import metrics",
   "id": "67152e9ba96165d2",
   "outputs": [],
   "execution_count": 24
  },
  {
   "metadata": {},
   "cell_type": "markdown",
   "source": "Evaluation procedure: Train/Test split",
   "id": "43ad58fa74755a5a"
  },
  {
   "metadata": {
    "ExecuteTime": {
     "end_time": "2025-03-01T11:39:30.338295Z",
     "start_time": "2025-03-01T11:39:30.326837Z"
    }
   },
   "cell_type": "code",
   "source": [
    "from sklearn.model_selection import train_test_split\n",
    "X_train, X_test, y_train, y_test = train_test_split(X, y, test_size=0.25, random_state=4)"
   ],
   "id": "a54bb9265f886a48",
   "outputs": [
    {
     "name": "stdout",
     "output_type": "stream",
     "text": [
      "(112, 4) (38, 4)\n"
     ]
    }
   ],
   "execution_count": 26
  },
  {
   "metadata": {},
   "cell_type": "code",
   "outputs": [],
   "execution_count": null,
   "source": "",
   "id": "a4c7a93f82e1b366"
  }
 ],
 "metadata": {
  "kernelspec": {
   "display_name": "Python 3",
   "language": "python",
   "name": "python3"
  },
  "language_info": {
   "codemirror_mode": {
    "name": "ipython",
    "version": 2
   },
   "file_extension": ".py",
   "mimetype": "text/x-python",
   "name": "python",
   "nbconvert_exporter": "python",
   "pygments_lexer": "ipython2",
   "version": "2.7.6"
  }
 },
 "nbformat": 4,
 "nbformat_minor": 5
}
